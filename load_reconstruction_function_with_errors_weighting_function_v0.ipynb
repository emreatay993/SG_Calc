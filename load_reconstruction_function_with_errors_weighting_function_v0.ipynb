{
 "cells": [
  {
   "cell_type": "code",
   "execution_count": 227,
   "metadata": {},
   "outputs": [
    {
     "name": "stdout",
     "output_type": "stream",
     "text": [
      "                Load 1        Load 2        Load 3\n",
      "Time [s]                                          \n",
      "0.0125    1.567245e+02  1.117944e-01  2.599926e+04\n",
      "0.0250    3.128784e+02  2.135032e-01  5.232680e+04\n",
      "0.0375    4.669172e+02  3.134697e-01  7.825795e+04\n",
      "0.0500    6.180712e+02  4.222155e-01  1.038943e+05\n",
      "0.0625    7.650658e+02  4.985733e-01  1.296881e+05\n",
      "...                ...           ...           ...\n",
      "0.9500   -6.179889e+02 -4.182466e-01  1.048856e+05\n",
      "0.9630   -4.662783e+02 -3.280222e-01  7.889037e+04\n",
      "0.9750   -3.125260e+02 -2.255094e-01  5.288855e+04\n",
      "0.9880   -1.567719e+02 -1.098185e-01  2.627570e+04\n",
      "1.0000   -2.001318e-11 -1.414393e-14  3.358970e-09\n",
      "\n",
      "[80 rows x 3 columns]\n",
      "CSV file saved at: estimated_loads_with_errors_per_gauge_RMS.csv\n"
     ]
    },
    {
     "data": {
      "application/vnd.plotly.v1+json": {
       "config": {
        "plotlyServerURL": "https://plot.ly"
       },
       "data": [
        {
         "hovertemplate": "variable=Load 1<br>Time [s]=%{x}<br>value=%{y}<extra></extra>",
         "legendgroup": "Load 1",
         "line": {
          "color": "#636efa",
          "dash": "solid"
         },
         "marker": {
          "symbol": "circle"
         },
         "mode": "lines",
         "name": "Load 1",
         "orientation": "v",
         "showlegend": true,
         "type": "scatter",
         "x": [
          0.0125,
          0.025,
          0.0375,
          0.05,
          0.0625,
          0.075,
          0.0875,
          0.1,
          0.113,
          0.125,
          0.138,
          0.15,
          0.163,
          0.175,
          0.188,
          0.2,
          0.213,
          0.225,
          0.238,
          0.25,
          0.263,
          0.275,
          0.288,
          0.3,
          0.313,
          0.325,
          0.338,
          0.35,
          0.363,
          0.375,
          0.388,
          0.4,
          0.413,
          0.425,
          0.438,
          0.45,
          0.463,
          0.475,
          0.488,
          0.5,
          0.513,
          0.525,
          0.538,
          0.55,
          0.563,
          0.575,
          0.588,
          0.6,
          0.613,
          0.625,
          0.638,
          0.65,
          0.663,
          0.675,
          0.688,
          0.7,
          0.713,
          0.725,
          0.738,
          0.75,
          0.763,
          0.775,
          0.788,
          0.8,
          0.813,
          0.825,
          0.838,
          0.85,
          0.863,
          0.875,
          0.888,
          0.9,
          0.913,
          0.925,
          0.938,
          0.95,
          0.963,
          0.975,
          0.988,
          1
         ],
         "xaxis": "x",
         "y": [
          156.724530786309,
          312.8784048667005,
          466.91717137441714,
          618.0711972308478,
          765.0657924287648,
          907.1257341908484,
          1044.2367768471731,
          1174.8045364827458,
          1298.4320703949413,
          1413.412080356134,
          1517.8328250807554,
          1616.5715121914945,
          1703.8449284994263,
          1778.6246227469514,
          1847.9059609181297,
          1897.515991812368,
          1941.4296506922385,
          1971.744256201678,
          1989.4752040104809,
          2000.2353923425287,
          1991.5522537867573,
          1975.7994815098264,
          1940.9373118197898,
          1899.270100138361,
          1844.5491593605475,
          1783.62208912755,
          1704.5214023369526,
          1619.0076170889033,
          1521.9700588508626,
          1413.4970042343261,
          1300.2091630185125,
          1176.5450360849745,
          1042.826238783122,
          905.4521679579725,
          765.4118319778287,
          616.9399378418666,
          466.9680277258106,
          312.51055579048284,
          156.73423088083925,
          0.49392159668448304,
          -157.14531609241524,
          -313.40153359118153,
          -467.8090000873344,
          -617.0009175330273,
          -764.2287289000243,
          -908.8434205828564,
          -1045.0071363642303,
          -1175.419588987473,
          -1298.3522738539175,
          -1414.2683903579068,
          -1519.61291539845,
          -1616.7479000569615,
          -1702.2066756890572,
          -1779.5363573624945,
          -1844.9296739900492,
          -1901.0956371447164,
          -1943.492050498599,
          -1974.259408887554,
          -1994.361980313364,
          -1998.5015037831988,
          -1992.5406260673021,
          -1973.774011911979,
          -1945.260117405894,
          -1903.231809029386,
          -1847.6371693163348,
          -1780.12702813687,
          -1705.7270702020019,
          -1619.429945799992,
          -1518.0261973247043,
          -1414.0098484031716,
          -1296.6463228463533,
          -1173.9924806905376,
          -1044.5065588994478,
          -907.1494191750726,
          -765.0565973759062,
          -617.9889028408023,
          -466.2782523444796,
          -312.52598180690626,
          -156.77191177506563,
          -2.001317777992947e-11
         ],
         "yaxis": "y"
        },
        {
         "hovertemplate": "variable=Load 2<br>Time [s]=%{x}<br>value=%{y}<extra></extra>",
         "legendgroup": "Load 2",
         "line": {
          "color": "#EF553B",
          "dash": "solid"
         },
         "marker": {
          "symbol": "circle"
         },
         "mode": "lines",
         "name": "Load 2",
         "orientation": "v",
         "showlegend": true,
         "type": "scatter",
         "x": [
          0.0125,
          0.025,
          0.0375,
          0.05,
          0.0625,
          0.075,
          0.0875,
          0.1,
          0.113,
          0.125,
          0.138,
          0.15,
          0.163,
          0.175,
          0.188,
          0.2,
          0.213,
          0.225,
          0.238,
          0.25,
          0.263,
          0.275,
          0.288,
          0.3,
          0.313,
          0.325,
          0.338,
          0.35,
          0.363,
          0.375,
          0.388,
          0.4,
          0.413,
          0.425,
          0.438,
          0.45,
          0.463,
          0.475,
          0.488,
          0.5,
          0.513,
          0.525,
          0.538,
          0.55,
          0.563,
          0.575,
          0.588,
          0.6,
          0.613,
          0.625,
          0.638,
          0.65,
          0.663,
          0.675,
          0.688,
          0.7,
          0.713,
          0.725,
          0.738,
          0.75,
          0.763,
          0.775,
          0.788,
          0.8,
          0.813,
          0.825,
          0.838,
          0.85,
          0.863,
          0.875,
          0.888,
          0.9,
          0.913,
          0.925,
          0.938,
          0.95,
          0.963,
          0.975,
          0.988,
          1
         ],
         "xaxis": "x",
         "y": [
          0.11179441897356188,
          0.21350322221756526,
          0.3134697381459874,
          0.42221549280323395,
          0.4985733095443255,
          0.5754047448932191,
          0.6449079914061862,
          0.6963634250672374,
          0.6965316710347457,
          0.7232487370782491,
          0.7524582849878664,
          0.6975891950113797,
          0.678905768887261,
          0.6229386948657224,
          0.5352507494019849,
          0.5024405990234553,
          0.39875595626404203,
          0.3057253480389115,
          0.19922145344523806,
          0.07784621861586999,
          -0.008153670007606965,
          -0.12205748735567229,
          -0.19123465723859362,
          -0.29854086605132896,
          -0.36879124600758934,
          -0.4890925678503377,
          -0.5321305812323579,
          -0.5922379307375367,
          -0.6215966118115314,
          -0.6033618098503216,
          -0.620383109566502,
          -0.6128720624768216,
          -0.5222666633086127,
          -0.481209772387152,
          -0.4429786454406268,
          -0.35629310423760524,
          -0.2802126937217736,
          -0.19463467400128703,
          -0.10375572561571846,
          -0.0037619343304830834,
          0.0967522834454643,
          0.17213369753225544,
          0.2691970009785587,
          0.3871127640751322,
          0.4412464628449844,
          0.5207189380075011,
          0.5473227941798621,
          0.599302793030973,
          0.6082536960679273,
          0.6164766647129957,
          0.6302221196125614,
          0.546605537157396,
          0.5660649092271045,
          0.4744885344242266,
          0.36629721015447836,
          0.29726978911339436,
          0.2169374181150951,
          0.09805184116227791,
          0.021337443650477864,
          -0.10289360779156403,
          -0.19845221838523755,
          -0.31294282541472873,
          -0.3981916704833339,
          -0.47093279797823256,
          -0.527188992526281,
          -0.5856635828777628,
          -0.6506409551828539,
          -0.7088418087499595,
          -0.6937856969306484,
          -0.7454795949964996,
          -0.6958791179974865,
          -0.6641440475947843,
          -0.6381762037001247,
          -0.5763748180432794,
          -0.49486371267383733,
          -0.41824660567021515,
          -0.3280222073857078,
          -0.22550944070523918,
          -0.10981847316390354,
          -1.4143933461616725e-14
         ],
         "yaxis": "y"
        },
        {
         "hovertemplate": "variable=Load 3<br>Time [s]=%{x}<br>value=%{y}<extra></extra>",
         "legendgroup": "Load 3",
         "line": {
          "color": "#00cc96",
          "dash": "solid"
         },
         "marker": {
          "symbol": "circle"
         },
         "mode": "lines",
         "name": "Load 3",
         "orientation": "v",
         "showlegend": true,
         "type": "scatter",
         "x": [
          0.0125,
          0.025,
          0.0375,
          0.05,
          0.0625,
          0.075,
          0.0875,
          0.1,
          0.113,
          0.125,
          0.138,
          0.15,
          0.163,
          0.175,
          0.188,
          0.2,
          0.213,
          0.225,
          0.238,
          0.25,
          0.263,
          0.275,
          0.288,
          0.3,
          0.313,
          0.325,
          0.338,
          0.35,
          0.363,
          0.375,
          0.388,
          0.4,
          0.413,
          0.425,
          0.438,
          0.45,
          0.463,
          0.475,
          0.488,
          0.5,
          0.513,
          0.525,
          0.538,
          0.55,
          0.563,
          0.575,
          0.588,
          0.6,
          0.613,
          0.625,
          0.638,
          0.65,
          0.663,
          0.675,
          0.688,
          0.7,
          0.713,
          0.725,
          0.738,
          0.75,
          0.763,
          0.775,
          0.788,
          0.8,
          0.813,
          0.825,
          0.838,
          0.85,
          0.863,
          0.875,
          0.888,
          0.9,
          0.913,
          0.925,
          0.938,
          0.95,
          0.963,
          0.975,
          0.988,
          1
         ],
         "xaxis": "x",
         "y": [
          25999.261866967994,
          52326.79579344885,
          78257.95228000128,
          103894.27793130637,
          129688.08668393473,
          154736.26988917173,
          179911.49960164167,
          204780.53949724353,
          230046.3025027928,
          254299.42846841842,
          276509.39878919785,
          301433.53096454206,
          324180.3726349622,
          345856.8266484027,
          369593.87526963034,
          388459.80729549954,
          409901.618533215,
          430145.2823643195,
          449376.1066425525,
          470642.9916313819,
          487364.68221585354,
          506332.4880306727,
          520325.9729075683,
          536849.876846378,
          551780.8519452474,
          568920.2106561583,
          580667.0579519211,
          594204.5887446732,
          605788.9511343458,
          614818.951824538,
          626022.4050678876,
          634480.641184389,
          639706.5172495383,
          646355.5601622455,
          653788.6300939452,
          657794.8064714116,
          661954.2441781404,
          664293.9560238838,
          666278.4834830316,
          666716.7472446507,
          666376.0703158069,
          665804.7816255438,
          663469.5589170919,
          657762.170153617,
          654208.6164752608,
          649006.1253225685,
          642506.4720807455,
          635003.6256120568,
          626454.0095237313,
          617690.2064534689,
          605448.2115087307,
          595806.0374913551,
          580855.355700099,
          568683.8427170916,
          556470.6247076628,
          541832.7319259319,
          525578.161181462,
          509359.1129787278,
          491516.25661745353,
          473529.5293386688,
          453887.0474345973,
          434596.07883190364,
          415953.3058949796,
          395082.7824716669,
          372110.53816587914,
          348938.7459841665,
          327622.60019429354,
          305182.23262590315,
          278760.1277950964,
          256903.5820354065,
          231185.08033519692,
          206277.75899993075,
          181898.29611556145,
          156231.55370599558,
          130488.664197367,
          104885.61674201957,
          78890.36947464451,
          52888.54550316755,
          26275.699114381947,
          3.35896997688092e-9
         ],
         "yaxis": "y"
        }
       ],
       "layout": {
        "legend": {
         "title": {
          "text": "variable"
         },
         "tracegroupgap": 0
        },
        "margin": {
         "t": 60
        },
        "template": {
         "data": {
          "bar": [
           {
            "error_x": {
             "color": "#2a3f5f"
            },
            "error_y": {
             "color": "#2a3f5f"
            },
            "marker": {
             "line": {
              "color": "#E5ECF6",
              "width": 0.5
             },
             "pattern": {
              "fillmode": "overlay",
              "size": 10,
              "solidity": 0.2
             }
            },
            "type": "bar"
           }
          ],
          "barpolar": [
           {
            "marker": {
             "line": {
              "color": "#E5ECF6",
              "width": 0.5
             },
             "pattern": {
              "fillmode": "overlay",
              "size": 10,
              "solidity": 0.2
             }
            },
            "type": "barpolar"
           }
          ],
          "carpet": [
           {
            "aaxis": {
             "endlinecolor": "#2a3f5f",
             "gridcolor": "white",
             "linecolor": "white",
             "minorgridcolor": "white",
             "startlinecolor": "#2a3f5f"
            },
            "baxis": {
             "endlinecolor": "#2a3f5f",
             "gridcolor": "white",
             "linecolor": "white",
             "minorgridcolor": "white",
             "startlinecolor": "#2a3f5f"
            },
            "type": "carpet"
           }
          ],
          "choropleth": [
           {
            "colorbar": {
             "outlinewidth": 0,
             "ticks": ""
            },
            "type": "choropleth"
           }
          ],
          "contour": [
           {
            "colorbar": {
             "outlinewidth": 0,
             "ticks": ""
            },
            "colorscale": [
             [
              0,
              "#0d0887"
             ],
             [
              0.1111111111111111,
              "#46039f"
             ],
             [
              0.2222222222222222,
              "#7201a8"
             ],
             [
              0.3333333333333333,
              "#9c179e"
             ],
             [
              0.4444444444444444,
              "#bd3786"
             ],
             [
              0.5555555555555556,
              "#d8576b"
             ],
             [
              0.6666666666666666,
              "#ed7953"
             ],
             [
              0.7777777777777778,
              "#fb9f3a"
             ],
             [
              0.8888888888888888,
              "#fdca26"
             ],
             [
              1,
              "#f0f921"
             ]
            ],
            "type": "contour"
           }
          ],
          "contourcarpet": [
           {
            "colorbar": {
             "outlinewidth": 0,
             "ticks": ""
            },
            "type": "contourcarpet"
           }
          ],
          "heatmap": [
           {
            "colorbar": {
             "outlinewidth": 0,
             "ticks": ""
            },
            "colorscale": [
             [
              0,
              "#0d0887"
             ],
             [
              0.1111111111111111,
              "#46039f"
             ],
             [
              0.2222222222222222,
              "#7201a8"
             ],
             [
              0.3333333333333333,
              "#9c179e"
             ],
             [
              0.4444444444444444,
              "#bd3786"
             ],
             [
              0.5555555555555556,
              "#d8576b"
             ],
             [
              0.6666666666666666,
              "#ed7953"
             ],
             [
              0.7777777777777778,
              "#fb9f3a"
             ],
             [
              0.8888888888888888,
              "#fdca26"
             ],
             [
              1,
              "#f0f921"
             ]
            ],
            "type": "heatmap"
           }
          ],
          "heatmapgl": [
           {
            "colorbar": {
             "outlinewidth": 0,
             "ticks": ""
            },
            "colorscale": [
             [
              0,
              "#0d0887"
             ],
             [
              0.1111111111111111,
              "#46039f"
             ],
             [
              0.2222222222222222,
              "#7201a8"
             ],
             [
              0.3333333333333333,
              "#9c179e"
             ],
             [
              0.4444444444444444,
              "#bd3786"
             ],
             [
              0.5555555555555556,
              "#d8576b"
             ],
             [
              0.6666666666666666,
              "#ed7953"
             ],
             [
              0.7777777777777778,
              "#fb9f3a"
             ],
             [
              0.8888888888888888,
              "#fdca26"
             ],
             [
              1,
              "#f0f921"
             ]
            ],
            "type": "heatmapgl"
           }
          ],
          "histogram": [
           {
            "marker": {
             "pattern": {
              "fillmode": "overlay",
              "size": 10,
              "solidity": 0.2
             }
            },
            "type": "histogram"
           }
          ],
          "histogram2d": [
           {
            "colorbar": {
             "outlinewidth": 0,
             "ticks": ""
            },
            "colorscale": [
             [
              0,
              "#0d0887"
             ],
             [
              0.1111111111111111,
              "#46039f"
             ],
             [
              0.2222222222222222,
              "#7201a8"
             ],
             [
              0.3333333333333333,
              "#9c179e"
             ],
             [
              0.4444444444444444,
              "#bd3786"
             ],
             [
              0.5555555555555556,
              "#d8576b"
             ],
             [
              0.6666666666666666,
              "#ed7953"
             ],
             [
              0.7777777777777778,
              "#fb9f3a"
             ],
             [
              0.8888888888888888,
              "#fdca26"
             ],
             [
              1,
              "#f0f921"
             ]
            ],
            "type": "histogram2d"
           }
          ],
          "histogram2dcontour": [
           {
            "colorbar": {
             "outlinewidth": 0,
             "ticks": ""
            },
            "colorscale": [
             [
              0,
              "#0d0887"
             ],
             [
              0.1111111111111111,
              "#46039f"
             ],
             [
              0.2222222222222222,
              "#7201a8"
             ],
             [
              0.3333333333333333,
              "#9c179e"
             ],
             [
              0.4444444444444444,
              "#bd3786"
             ],
             [
              0.5555555555555556,
              "#d8576b"
             ],
             [
              0.6666666666666666,
              "#ed7953"
             ],
             [
              0.7777777777777778,
              "#fb9f3a"
             ],
             [
              0.8888888888888888,
              "#fdca26"
             ],
             [
              1,
              "#f0f921"
             ]
            ],
            "type": "histogram2dcontour"
           }
          ],
          "mesh3d": [
           {
            "colorbar": {
             "outlinewidth": 0,
             "ticks": ""
            },
            "type": "mesh3d"
           }
          ],
          "parcoords": [
           {
            "line": {
             "colorbar": {
              "outlinewidth": 0,
              "ticks": ""
             }
            },
            "type": "parcoords"
           }
          ],
          "pie": [
           {
            "automargin": true,
            "type": "pie"
           }
          ],
          "scatter": [
           {
            "fillpattern": {
             "fillmode": "overlay",
             "size": 10,
             "solidity": 0.2
            },
            "type": "scatter"
           }
          ],
          "scatter3d": [
           {
            "line": {
             "colorbar": {
              "outlinewidth": 0,
              "ticks": ""
             }
            },
            "marker": {
             "colorbar": {
              "outlinewidth": 0,
              "ticks": ""
             }
            },
            "type": "scatter3d"
           }
          ],
          "scattercarpet": [
           {
            "marker": {
             "colorbar": {
              "outlinewidth": 0,
              "ticks": ""
             }
            },
            "type": "scattercarpet"
           }
          ],
          "scattergeo": [
           {
            "marker": {
             "colorbar": {
              "outlinewidth": 0,
              "ticks": ""
             }
            },
            "type": "scattergeo"
           }
          ],
          "scattergl": [
           {
            "marker": {
             "colorbar": {
              "outlinewidth": 0,
              "ticks": ""
             }
            },
            "type": "scattergl"
           }
          ],
          "scattermapbox": [
           {
            "marker": {
             "colorbar": {
              "outlinewidth": 0,
              "ticks": ""
             }
            },
            "type": "scattermapbox"
           }
          ],
          "scatterpolar": [
           {
            "marker": {
             "colorbar": {
              "outlinewidth": 0,
              "ticks": ""
             }
            },
            "type": "scatterpolar"
           }
          ],
          "scatterpolargl": [
           {
            "marker": {
             "colorbar": {
              "outlinewidth": 0,
              "ticks": ""
             }
            },
            "type": "scatterpolargl"
           }
          ],
          "scatterternary": [
           {
            "marker": {
             "colorbar": {
              "outlinewidth": 0,
              "ticks": ""
             }
            },
            "type": "scatterternary"
           }
          ],
          "surface": [
           {
            "colorbar": {
             "outlinewidth": 0,
             "ticks": ""
            },
            "colorscale": [
             [
              0,
              "#0d0887"
             ],
             [
              0.1111111111111111,
              "#46039f"
             ],
             [
              0.2222222222222222,
              "#7201a8"
             ],
             [
              0.3333333333333333,
              "#9c179e"
             ],
             [
              0.4444444444444444,
              "#bd3786"
             ],
             [
              0.5555555555555556,
              "#d8576b"
             ],
             [
              0.6666666666666666,
              "#ed7953"
             ],
             [
              0.7777777777777778,
              "#fb9f3a"
             ],
             [
              0.8888888888888888,
              "#fdca26"
             ],
             [
              1,
              "#f0f921"
             ]
            ],
            "type": "surface"
           }
          ],
          "table": [
           {
            "cells": {
             "fill": {
              "color": "#EBF0F8"
             },
             "line": {
              "color": "white"
             }
            },
            "header": {
             "fill": {
              "color": "#C8D4E3"
             },
             "line": {
              "color": "white"
             }
            },
            "type": "table"
           }
          ]
         },
         "layout": {
          "annotationdefaults": {
           "arrowcolor": "#2a3f5f",
           "arrowhead": 0,
           "arrowwidth": 1
          },
          "autotypenumbers": "strict",
          "coloraxis": {
           "colorbar": {
            "outlinewidth": 0,
            "ticks": ""
           }
          },
          "colorscale": {
           "diverging": [
            [
             0,
             "#8e0152"
            ],
            [
             0.1,
             "#c51b7d"
            ],
            [
             0.2,
             "#de77ae"
            ],
            [
             0.3,
             "#f1b6da"
            ],
            [
             0.4,
             "#fde0ef"
            ],
            [
             0.5,
             "#f7f7f7"
            ],
            [
             0.6,
             "#e6f5d0"
            ],
            [
             0.7,
             "#b8e186"
            ],
            [
             0.8,
             "#7fbc41"
            ],
            [
             0.9,
             "#4d9221"
            ],
            [
             1,
             "#276419"
            ]
           ],
           "sequential": [
            [
             0,
             "#0d0887"
            ],
            [
             0.1111111111111111,
             "#46039f"
            ],
            [
             0.2222222222222222,
             "#7201a8"
            ],
            [
             0.3333333333333333,
             "#9c179e"
            ],
            [
             0.4444444444444444,
             "#bd3786"
            ],
            [
             0.5555555555555556,
             "#d8576b"
            ],
            [
             0.6666666666666666,
             "#ed7953"
            ],
            [
             0.7777777777777778,
             "#fb9f3a"
            ],
            [
             0.8888888888888888,
             "#fdca26"
            ],
            [
             1,
             "#f0f921"
            ]
           ],
           "sequentialminus": [
            [
             0,
             "#0d0887"
            ],
            [
             0.1111111111111111,
             "#46039f"
            ],
            [
             0.2222222222222222,
             "#7201a8"
            ],
            [
             0.3333333333333333,
             "#9c179e"
            ],
            [
             0.4444444444444444,
             "#bd3786"
            ],
            [
             0.5555555555555556,
             "#d8576b"
            ],
            [
             0.6666666666666666,
             "#ed7953"
            ],
            [
             0.7777777777777778,
             "#fb9f3a"
            ],
            [
             0.8888888888888888,
             "#fdca26"
            ],
            [
             1,
             "#f0f921"
            ]
           ]
          },
          "colorway": [
           "#636efa",
           "#EF553B",
           "#00cc96",
           "#ab63fa",
           "#FFA15A",
           "#19d3f3",
           "#FF6692",
           "#B6E880",
           "#FF97FF",
           "#FECB52"
          ],
          "font": {
           "color": "#2a3f5f"
          },
          "geo": {
           "bgcolor": "white",
           "lakecolor": "white",
           "landcolor": "#E5ECF6",
           "showlakes": true,
           "showland": true,
           "subunitcolor": "white"
          },
          "hoverlabel": {
           "align": "left"
          },
          "hovermode": "closest",
          "mapbox": {
           "style": "light"
          },
          "paper_bgcolor": "white",
          "plot_bgcolor": "#E5ECF6",
          "polar": {
           "angularaxis": {
            "gridcolor": "white",
            "linecolor": "white",
            "ticks": ""
           },
           "bgcolor": "#E5ECF6",
           "radialaxis": {
            "gridcolor": "white",
            "linecolor": "white",
            "ticks": ""
           }
          },
          "scene": {
           "xaxis": {
            "backgroundcolor": "#E5ECF6",
            "gridcolor": "white",
            "gridwidth": 2,
            "linecolor": "white",
            "showbackground": true,
            "ticks": "",
            "zerolinecolor": "white"
           },
           "yaxis": {
            "backgroundcolor": "#E5ECF6",
            "gridcolor": "white",
            "gridwidth": 2,
            "linecolor": "white",
            "showbackground": true,
            "ticks": "",
            "zerolinecolor": "white"
           },
           "zaxis": {
            "backgroundcolor": "#E5ECF6",
            "gridcolor": "white",
            "gridwidth": 2,
            "linecolor": "white",
            "showbackground": true,
            "ticks": "",
            "zerolinecolor": "white"
           }
          },
          "shapedefaults": {
           "line": {
            "color": "#2a3f5f"
           }
          },
          "ternary": {
           "aaxis": {
            "gridcolor": "white",
            "linecolor": "white",
            "ticks": ""
           },
           "baxis": {
            "gridcolor": "white",
            "linecolor": "white",
            "ticks": ""
           },
           "bgcolor": "#E5ECF6",
           "caxis": {
            "gridcolor": "white",
            "linecolor": "white",
            "ticks": ""
           }
          },
          "title": {
           "x": 0.05
          },
          "xaxis": {
           "automargin": true,
           "gridcolor": "white",
           "linecolor": "white",
           "ticks": "",
           "title": {
            "standoff": 15
           },
           "zerolinecolor": "white",
           "zerolinewidth": 2
          },
          "yaxis": {
           "automargin": true,
           "gridcolor": "white",
           "linecolor": "white",
           "ticks": "",
           "title": {
            "standoff": 15
           },
           "zerolinecolor": "white",
           "zerolinewidth": 2
          }
         }
        },
        "xaxis": {
         "anchor": "y",
         "domain": [
          0,
          1
         ],
         "title": {
          "text": "Time [s]"
         }
        },
        "yaxis": {
         "anchor": "x",
         "domain": [
          0,
          1
         ],
         "title": {
          "text": "value"
         }
        }
       }
      }
     },
     "metadata": {},
     "output_type": "display_data"
    }
   ],
   "source": [
    "import numpy as np\n",
    "import pandas as pd\n",
    "import plotly.express as px\n",
    "\n",
    "def estimate_loads_from_strains_with_errors_per_gauge(\n",
    "    measured_time_vs_strain_data_file_path, \n",
    "    sensitivity_matrix_file_path,\n",
    "    signal_noise_microstrains=20,  # Signal noise in microstrains\n",
    "    gage_factor_error_percent=1,   # Gage factor error in percent\n",
    "    positioning_error_percent=3    # Positioning error in percent\n",
    "):\n",
    "    # Load the CSV files\n",
    "    S_df = pd.read_csv(measured_time_vs_strain_data_file_path)\n",
    "    A_df = pd.read_csv(sensitivity_matrix_file_path, header=None)\n",
    "\n",
    "    # Extract strain measurements and sensitivity matrix\n",
    "    S_matrix = S_df.iloc[:, 1:].values\n",
    "    A_matrix = A_df.values\n",
    "\n",
    "    # Calculate variances from different error sources for each gauge\n",
    "    signal_noise = signal_noise_microstrains * 1e-6\n",
    "    signal_noise_variance = signal_noise ** 2\n",
    "\n",
    "    # Calculate RMS strain for each gauge\n",
    "    rms_strain_per_gauge = np.sqrt(np.mean(S_matrix**2, axis=0))\n",
    "\n",
    "    gage_factor_error = gage_factor_error_percent / 100\n",
    "    positioning_error = positioning_error_percent / 100\n",
    "\n",
    "    # Total variance for each strain gauge measurement\n",
    "    total_variance_per_gauge = (signal_noise_variance +\n",
    "                                (gage_factor_error ** 2) * rms_strain_per_gauge ** 2 +\n",
    "                                (positioning_error ** 2) * rms_strain_per_gauge ** 2)\n",
    "    \n",
    "    total_variance_per_gauge[total_variance_per_gauge == 0] = 1e-10  # replace 0 with a small number\n",
    "\n",
    "    # Creating the W matrix for each gauge\n",
    "    W = np.diag(1 / total_variance_per_gauge)\n",
    "\n",
    "    # Perform the weighted least squares estimate calculation\n",
    "    A_T_W = A_matrix.T @ W\n",
    "    A_T_W_A_inv = np.linalg.inv(A_T_W @ A_matrix)\n",
    "    L_hat = A_T_W_A_inv @ A_T_W @ S_matrix.T\n",
    "\n",
    "    # Transpose to get the original shape\n",
    "    L_hat_timeseries = L_hat.T\n",
    "\n",
    "    # Create a DataFrame for the results\n",
    "    estimated_loads_df = pd.DataFrame(L_hat_timeseries, columns=[f'Load {i+1}' for i in range(A_matrix.shape[1])])\n",
    "    estimated_loads_df.insert(0, 'Time [s]', S_df.iloc[:, 0])\n",
    "\n",
    "    # Save to CSV\n",
    "    output_csv_file_path = 'estimated_loads_with_errors_per_gauge_RMS.csv'\n",
    "    estimated_loads_df.to_csv(output_csv_file_path, index=False)\n",
    "    estimated_loads_df.set_index('Time [s]', inplace=True)\n",
    "\n",
    "    return estimated_loads_df, output_csv_file_path\n",
    "\n",
    "# Example usage of the function\n",
    "loads_df_with_errors_per_gauge, csv_file_path_with_errors_per_gauge = estimate_loads_from_strains_with_errors_per_gauge(\n",
    "    'sample_input_csv_1.csv',  # Your CSV file paths\n",
    "    'strain_sensitivity_matrix.csv',\n",
    "    0, 0, 0  # Error parameters\n",
    ")\n",
    "\n",
    "print(loads_df_with_errors_per_gauge)  # Display the first few rows of the estimated loads\n",
    "print(f\"CSV file saved at: {csv_file_path_with_errors_per_gauge}\")\n",
    "\n",
    "px.line(loads_df_with_errors_per_gauge)\n"
   ]
  }
 ],
 "metadata": {
  "kernelspec": {
   "display_name": "Python 3",
   "language": "python",
   "name": "python3"
  },
  "language_info": {
   "codemirror_mode": {
    "name": "ipython",
    "version": 3
   },
   "file_extension": ".py",
   "mimetype": "text/x-python",
   "name": "python",
   "nbconvert_exporter": "python",
   "pygments_lexer": "ipython3",
   "version": "3.10.0"
  }
 },
 "nbformat": 4,
 "nbformat_minor": 2
}
