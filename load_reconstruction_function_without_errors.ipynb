{
 "cells": [
  {
   "cell_type": "code",
   "execution_count": 11,
   "metadata": {},
   "outputs": [
    {
     "data": {
      "text/plain": [
       "(   Time [s]  Load 1    Load 2\n",
       " 0       0.1  -250.0  0.100000\n",
       " 1       0.2  -500.0  0.200000\n",
       " 2       0.3  -750.0  0.296667\n",
       " 3       0.4 -1000.0  0.400000\n",
       " 4       0.5 -1248.0  0.500000\n",
       " 5       0.6 -1500.0  0.600000\n",
       " 6       0.7 -1748.0  0.700000\n",
       " 7       0.8 -2000.0  0.800000\n",
       " 8       0.9 -2248.0  0.900000\n",
       " 9       1.0 -2500.0  1.000000,\n",
       " 'estimated_loads.csv')"
      ]
     },
     "execution_count": 11,
     "metadata": {},
     "output_type": "execute_result"
    }
   ],
   "source": [
    "# Input file paths\n",
    "measured_time_vs_strain_data_file = \"sample_input_csv_1.csv\"\n",
    "sensitivity_matrix_file = \"strain_sensitivity_matrix.csv\"\n",
    "\n",
    "\n",
    "import numpy as np\n",
    "import pandas as pd\n",
    "\n",
    "def estimate_loads_from_strains(measured_time_vs_strain_data_file_path, sensitivity_matrix_file_path):\n",
    "    # Load the CSV files using pandas to inspect the data and handle headers\n",
    "    S_df = pd.read_csv(measured_time_vs_strain_data_file_path)\n",
    "    A_df = pd.read_csv(sensitivity_matrix_file_path, header=None)\n",
    "\n",
    "    # Convert the dataframes to numpy arrays, excluding the time column for S\n",
    "    S_matrix = S_df.iloc[:, 1:].values  # Excludes the first column (Time [s])\n",
    "    A_matrix = A_df.values  # Convert the strain sensitivity matrix to a numpy array\n",
    "\n",
    "    # Perform the least squares estimate calculation for the load vector L_hat\n",
    "    A_T = A_matrix.T\n",
    "    A_T_A_inv = np.linalg.pinv(np.dot(A_T, A_matrix))  # Using pseudo-inverse\n",
    "    A_T_A_inv_A_T = np.dot(A_T_A_inv, A_T)\n",
    "\n",
    "    # Calculate the load vector estimate for all time steps\n",
    "    L_hat_timeseries = np.dot(A_T_A_inv_A_T, S_matrix.T).T\n",
    "\n",
    "    # Create a pandas dataframe for Time vs. Estimated loads\n",
    "    time_column = S_df.iloc[:, 0].values  # First column is Time [s]\n",
    "    estimated_loads_df = pd.DataFrame(L_hat_timeseries, columns=[f'Load {i+1}' for i in range(A_matrix.shape[1])])\n",
    "    estimated_loads_df.insert(0, 'Time [s]', time_column)  # Insert the time column at the beginning\n",
    "\n",
    "    # Save the dataframe to a CSV file\n",
    "    output_csv_file_path = 'estimated_loads.csv'\n",
    "    estimated_loads_df.to_csv(output_csv_file_path, index=False)\n",
    "\n",
    "    return estimated_loads_df, output_csv_file_path\n",
    "\n",
    "\n",
    "# Using the function to calculate the loads and get the dataframe and CSV file path\n",
    "loads_df, csv_file_path = estimate_loads_from_strains(measured_time_vs_strain_data_file, sensitivity_matrix_file)\n",
    "loads_df, csv_file_path\n",
    "\n",
    "\n"
   ]
  }
 ],
 "metadata": {
  "kernelspec": {
   "display_name": "Python 3",
   "language": "python",
   "name": "python3"
  },
  "language_info": {
   "codemirror_mode": {
    "name": "ipython",
    "version": 3
   },
   "file_extension": ".py",
   "mimetype": "text/x-python",
   "name": "python",
   "nbconvert_exporter": "python",
   "pygments_lexer": "ipython3",
   "version": "3.10.0"
  }
 },
 "nbformat": 4,
 "nbformat_minor": 2
}
